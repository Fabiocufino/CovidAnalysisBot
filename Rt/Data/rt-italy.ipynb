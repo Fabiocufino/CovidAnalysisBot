{
 "cells": [
  {
   "cell_type": "markdown",
   "metadata": {},
   "source": [
    "# $R_t$ Italy Live"
   ]
  },
  {
   "cell_type": "markdown",
   "metadata": {},
   "source": [
    "- $R_{t_1}$ - **Bettencourt, L. & Ribeiro, R.** (2008). *Real time bayesian estimation of the epidemic potential of emerging infectious diseases*. PLoS One, 3(5), e2185."
   ]
  },
  {
   "cell_type": "markdown",
   "metadata": {},
   "source": [
    "---"
   ]
  },
  {
   "cell_type": "code",
   "execution_count": 1,
   "metadata": {},
   "outputs": [],
   "source": [
    "import time\n",
    "import pandas as pd\n",
    "import numpy as np\n",
    "\n",
    "# Dataset\n",
    "from covid.data import get_data\n",
    "# Models\n",
    "from covid.models.bettencourt_ribeiro import bettencourt_ribeiro"
   ]
  },
  {
   "cell_type": "code",
   "execution_count": 2,
   "metadata": {},
   "outputs": [],
   "source": [
    "data = get_data(country='it', run_date=pd.Timestamp.today())"
   ]
  },
  {
   "cell_type": "code",
   "execution_count": 3,
   "metadata": {},
   "outputs": [],
   "source": [
    "regions = data.index.get_level_values(0).unique()\n",
    "#regions = [data.index.get_level_values(0).unique()[0],data.index.get_level_values(0).unique()[1]]#Si prende solo i primi due dell'index, Abruzzo e Basilicata\n"
   ]
  },
  {
   "cell_type": "code",
   "execution_count": 4,
   "metadata": {},
   "outputs": [],
   "source": [
    "total_execution_time = time.time()"
   ]
  },
  {
   "cell_type": "markdown",
   "metadata": {},
   "source": [
    "## $R_{t_1}$"
   ]
  },
  {
   "cell_type": "code",
   "execution_count": 5,
   "metadata": {},
   "outputs": [
    {
     "name": "stdout",
     "output_type": "stream",
     "text": [
      "Basilicata\n",
      "Calabria\n",
      "Friuli Venezia Giulia\n",
      "Campania\n",
      "Abruzzo\n",
      "Centro Italia\n",
      "Emilia-Romagna\n",
      "Italia\n",
      "Liguria\n",
      "Marche\n",
      "Molise\n",
      "Lazio\n",
      "P.A. Trento\n",
      "Lombardia\n",
      "P.A. Bolzano\n",
      "Nord Italia\n",
      "Puglia\n",
      "Sardegna\n",
      "Sicilia\n",
      "Piemonte\n",
      "Trentino Alto Adige\n",
      "Sud Italia\n",
      "Valle d'Aosta\n",
      "Toscana\n",
      "Umbria\n",
      "Veneto\n",
      "\n",
      "- Executed in: 1938.64 seconds\n"
     ]
    }
   ],
   "source": [
    "start_time = time.time()\n",
    "\n",
    "br = bettencourt_ribeiro(data, regions)\n",
    "output_bettencourt_ribeiro = br.run()\n",
    "output_bettencourt_ribeiro.to_csv('Rt_bettencourt_ribeiro.csv', index=False)\n",
    "\n",
    "print(\"\\n- Executed in: %.2f seconds\" % (time.time() - start_time))"
   ]
  },
  {
   "cell_type": "code",
   "execution_count": null,
   "metadata": {},
   "outputs": [],
   "source": []
  }
 ],
 "metadata": {
  "kernelspec": {
   "display_name": "Python 3 (ipykernel)",
   "language": "python",
   "name": "python3"
  },
  "language_info": {
   "codemirror_mode": {
    "name": "ipython",
    "version": 3
   },
   "file_extension": ".py",
   "mimetype": "text/x-python",
   "name": "python",
   "nbconvert_exporter": "python",
   "pygments_lexer": "ipython3",
   "version": "3.8.8"
  }
 },
 "nbformat": 4,
 "nbformat_minor": 4
}
